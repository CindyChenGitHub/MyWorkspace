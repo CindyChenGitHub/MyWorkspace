{
 "metadata": {
  "language_info": {
   "codemirror_mode": {
    "name": "ipython",
    "version": 3
   },
   "file_extension": ".py",
   "mimetype": "text/x-python",
   "name": "python",
   "nbconvert_exporter": "python",
   "pygments_lexer": "ipython3",
   "version": 3
  },
  "orig_nbformat": 4
 },
 "nbformat": 4,
 "nbformat_minor": 2,
 "cells": [
  {
   "source": [
    "# ETL phase 1: Restore Database into Docker\n",
    "## 1. Copy *.bak to the database folder\n",
    "> ex. copy \"0179Orders_Org.bak\" into \"C:\\MyDataFiles\\Data_JayCoop_202109\\DB_Backup\"  \n",
    "\n",
    "## 2. Run Docker server\n",
    "```commond\n",
    "docker run --name SQL_Server_2019  -e 'ACCEPT_EULA=Y' -e 'SA_PASSWORD=SQLServer2019' -p 1433:1433 -d mcr.microsoft.com/mssql/server:2019-latest\n",
    "```\n",
    "## 3. Start Docker container\n",
    "```commond\n",
    "docker start SQL_Server_2019\n",
    "```\n",
    "## 4. Copy *.bak from the database folder to Docker\n",
    "```commond\n",
    "docker cp \"C:\\MyDataFiles\\Data_JayCoop_202109\\DB_Backup\\0179Orders_Org.bak\" SQL_Server_2019:\"/var/opt/mssql/data/0179Orders_Org.bak\"\n",
    "```\n",
    "## 5. List files in the backup file.\n",
    "```SQL\n",
    "RESTORE FILELISTONLY FROM DISK = '/var/opt/mssql/data/0179Orders_Org.bak'\n",
    "```\n",
    "## 6. Restore database\n",
    "```SQL\n",
    "RESTORE DATABASE [0179Orders_Org] FROM DISK = '/var/opt/mssql/data/0179Orders_Org.bak' WITH MOVE 'Orders' TO '/var/opt/mssql/data/0179Orders_Org.mdf', MOVE 'Orders_log' TO '/var/opt/mssql/data/0179Orders_Org.ldf'\n",
    "```\n"
   ],
   "cell_type": "markdown",
   "metadata": {}
  },
  {
   "source": [
    "py database file *.bak to the database folder, ex. C:\\MyDataFiles\\Data_JayCoop_202109\\DB_Backup\n",
    "## 1.2 Copy *.bak into Docker\n",
    "``` Docker\n",
    "Do"
   ],
   "cell_type": "markdown",
   "metadata": {}
  }
 ]
}