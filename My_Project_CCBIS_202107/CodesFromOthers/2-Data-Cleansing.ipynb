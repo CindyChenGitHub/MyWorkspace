{
 "cells": [
  {
   "cell_type": "markdown",
   "metadata": {},
   "source": [
    "# Data Cleansing\n",
    "<img src=\"data-prep-kdd-process-crisp-dm.jpg\" width=\"1000\" height=\"600\">\n",
    "<h2><center>Data preparation in both the KDD Process (left) and the CRISP-DM model (right).</center></h2>\n",
    "<img src=\"kdd.gif\" width=\"800\" height=\"500\">\n",
    "<h2><center>KDD - Knowledge Discovery in Databases</center></h2>\n",
    "<img src=\"CRISP-DM_Process_Diagram.png\" width=\"500\" height=\"300\">\n",
    "<h2><center>CRISP - Cross-industry standard process for data mining</center></h2>\n",
    "\n",
    "Data cleansing consists of following 3 processes usally<br> \n",
    "* Missing Values\n",
    "* Outlier Values\n",
    "* Duplidated values"
   ]
  },
  {
   "cell_type": "markdown",
   "metadata": {},
   "source": [
    "## Missing value handling"
   ]
  },
  {
   "cell_type": "markdown",
   "metadata": {},
   "source": [
    "Pandas treat None and NaN as essentially interchangeable for indicating missing or null values. To facilitate this convention, there are several useful functions for detecting, removing, and replacing null values in Pandas DataFrame :\n",
    "\n",
    "* isnull()\n",
    "* notnull()\n",
    "* dropna()\n",
    "* fillna()\n",
    "* replace()\n",
    "* interpolate()"
   ]
  },
  {
   "cell_type": "code",
   "execution_count": 1,
   "metadata": {},
   "outputs": [],
   "source": [
    "## From SQL to DataFrame Pandas\n",
    "import pandas as pd\n",
    "import os\n",
    "import time"
   ]
  },
  {
   "cell_type": "code",
   "execution_count": 2,
   "metadata": {},
   "outputs": [],
   "source": [
    "os.chdir(r\"C:\\Courses\\DA-Project\")\n",
    "ccbis_files=os.listdir()\n",
    "createVar = locals()\n",
    "for i in ccbis_files:\n",
    "    if i.endswith(\"csv\"):\n",
    "        createVar[i.split('.')[0]] = pd.read_csv(i)"
   ]
  },
  {
   "cell_type": "markdown",
   "metadata": {},
   "source": [
    "## Data overview"
   ]
  },
  {
   "cell_type": "code",
   "execution_count": 3,
   "metadata": {},
   "outputs": [
    {
     "name": "stdout",
     "output_type": "stream",
     "text": [
      "<class 'pandas.core.frame.DataFrame'>\n",
      "RangeIndex: 16000 entries, 0 to 15999\n",
      "Data columns (total 18 columns):\n",
      "CDRID               16000 non-null int64\n",
      "CustomerKey         16000 non-null int64\n",
      "AgentKey            16000 non-null int64\n",
      "CallDate            16000 non-null object\n",
      "Start_TM            16000 non-null object\n",
      "End_TM              16000 non-null object\n",
      "Status              16000 non-null object\n",
      "Satisfaction        16000 non-null int64\n",
      "FirstResolved       16000 non-null int64\n",
      "HandleType_Key      16000 non-null int64\n",
      "ServiceType_Key     16000 non-null int64\n",
      "SeverityType_Key    16000 non-null int64\n",
      "CallReason_Key      16000 non-null int64\n",
      "NPS                 16000 non-null int64\n",
      "ProductKey          16000 non-null int64\n",
      "CustomerTier        16000 non-null object\n",
      "CustomerSegment     16000 non-null object\n",
      "CloseDate           16000 non-null object\n",
      "dtypes: int64(11), object(7)\n",
      "memory usage: 2.2+ MB\n"
     ]
    }
   ],
   "source": [
    "# dataframe CDR\n",
    "CDR.info()"
   ]
  },
  {
   "cell_type": "markdown",
   "metadata": {},
   "source": [
    "## Count the Null Columns"
   ]
  },
  {
   "cell_type": "code",
   "execution_count": 4,
   "metadata": {},
   "outputs": [
    {
     "data": {
      "text/plain": [
       "Series([], dtype: float64)"
      ]
     },
     "execution_count": 4,
     "metadata": {},
     "output_type": "execute_result"
    }
   ],
   "source": [
    "null_columns=CDR.columns[CDR.isnull().any()]\n",
    "CDR[null_columns].isnull().sum()"
   ]
  },
  {
   "cell_type": "markdown",
   "metadata": {},
   "source": [
    "If there are lots of different columns containing null values. What if we want to find specific row and column which has null?\n",
    "\n",
    "## Single Column Is Null"
   ]
  },
  {
   "cell_type": "code",
   "execution_count": 6,
   "metadata": {},
   "outputs": [
    {
     "name": "stdout",
     "output_type": "stream",
     "text": [
      "Empty DataFrame\n",
      "Columns: []\n",
      "Index: []\n"
     ]
    }
   ],
   "source": [
    "print(CDR[CDR[\"Status\"].isnull()][null_columns])"
   ]
  },
  {
   "cell_type": "markdown",
   "metadata": {},
   "source": [
    "And what if we want to return every row that contains at least one null value? That’s not too difficult – it’s just a combination of the code in the previous two sections.\n",
    "\n",
    "## All Null Columns"
   ]
  },
  {
   "cell_type": "code",
   "execution_count": 7,
   "metadata": {},
   "outputs": [
    {
     "name": "stdout",
     "output_type": "stream",
     "text": [
      "Empty DataFrame\n",
      "Columns: []\n",
      "Index: []\n"
     ]
    }
   ],
   "source": [
    "print(CDR[CDR.isnull().any(axis=1)][null_columns].head())"
   ]
  },
  {
   "cell_type": "markdown",
   "metadata": {},
   "source": [
    "## Let's check other tables"
   ]
  },
  {
   "cell_type": "code",
   "execution_count": null,
   "metadata": {},
   "outputs": [],
   "source": []
  }
 ],
 "metadata": {
  "kernelspec": {
   "display_name": "Python 3",
   "language": "python",
   "name": "python3"
  },
  "language_info": {
   "codemirror_mode": {
    "name": "ipython",
    "version": 3
   },
   "file_extension": ".py",
   "mimetype": "text/x-python",
   "name": "python",
   "nbconvert_exporter": "python",
   "pygments_lexer": "ipython3",
   "version": "3.8.5"
  }
 },
 "nbformat": 4,
 "nbformat_minor": 2
}
