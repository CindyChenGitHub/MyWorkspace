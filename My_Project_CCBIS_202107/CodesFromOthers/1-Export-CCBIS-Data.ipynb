{
 "cells": [
  {
   "cell_type": "markdown",
   "id": "8cd6733b",
   "metadata": {},
   "source": [
    "# ETL phase 1, expoet CCBIS Data to CSV"
   ]
  },
  {
   "cell_type": "code",
   "execution_count": 6,
   "id": "068e5a6c",
   "metadata": {},
   "outputs": [],
   "source": [
    "#!pip install pandas\n",
    "#!pip install pyodbc\n",
    "import pandas as pd\n",
    "import pyodbc\n",
    "import os"
   ]
  },
  {
   "cell_type": "code",
   "execution_count": 2,
   "id": "05e439f4",
   "metadata": {},
   "outputs": [],
   "source": [
    "sql_conn = pyodbc.connect('DRIVER={SQL Server}; SERVER=localhost;DATABASE=CCBIS;UID=sa;PWD=SQLServer2019')"
   ]
  },
  {
   "cell_type": "code",
   "execution_count": 3,
   "id": "d2d998d5",
   "metadata": {},
   "outputs": [
    {
     "data": {
      "text/html": [
       "<div>\n",
       "<style scoped>\n",
       "    .dataframe tbody tr th:only-of-type {\n",
       "        vertical-align: middle;\n",
       "    }\n",
       "\n",
       "    .dataframe tbody tr th {\n",
       "        vertical-align: top;\n",
       "    }\n",
       "\n",
       "    .dataframe thead th {\n",
       "        text-align: right;\n",
       "    }\n",
       "</style>\n",
       "<table border=\"1\" class=\"dataframe\">\n",
       "  <thead>\n",
       "    <tr style=\"text-align: right;\">\n",
       "      <th></th>\n",
       "      <th>AgentID</th>\n",
       "      <th>FirstName</th>\n",
       "      <th>LastName</th>\n",
       "      <th>Group</th>\n",
       "      <th>Location</th>\n",
       "    </tr>\n",
       "  </thead>\n",
       "  <tbody>\n",
       "    <tr>\n",
       "      <th>0</th>\n",
       "      <td>1</td>\n",
       "      <td>Jarrod</td>\n",
       "      <td>Todd</td>\n",
       "      <td>Level 1</td>\n",
       "      <td>London</td>\n",
       "    </tr>\n",
       "    <tr>\n",
       "      <th>1</th>\n",
       "      <td>2</td>\n",
       "      <td>Chancellor</td>\n",
       "      <td>Mckenzie</td>\n",
       "      <td>Level 1</td>\n",
       "      <td>Berlin</td>\n",
       "    </tr>\n",
       "    <tr>\n",
       "      <th>2</th>\n",
       "      <td>3</td>\n",
       "      <td>Lamar</td>\n",
       "      <td>Pace</td>\n",
       "      <td>Level 5</td>\n",
       "      <td>London</td>\n",
       "    </tr>\n",
       "  </tbody>\n",
       "</table>\n",
       "</div>"
      ],
      "text/plain": [
       "   AgentID   FirstName  LastName    Group Location\n",
       "0        1      Jarrod      Todd  Level 1   London\n",
       "1        2  Chancellor  Mckenzie  Level 1   Berlin\n",
       "2        3       Lamar      Pace  Level 5   London"
      ]
     },
     "execution_count": 3,
     "metadata": {},
     "output_type": "execute_result"
    }
   ],
   "source": [
    "#Let's do a test to see if we can extract data\n",
    "query = \"select * from [dbo].[Dimagent]\"\n",
    "df = pd.read_sql(query,sql_conn)\n",
    "df.head(3)"
   ]
  },
  {
   "cell_type": "code",
   "execution_count": 5,
   "id": "7fd5af4c",
   "metadata": {},
   "outputs": [
    {
     "data": {
      "text/html": [
       "<div>\n",
       "<style scoped>\n",
       "    .dataframe tbody tr th:only-of-type {\n",
       "        vertical-align: middle;\n",
       "    }\n",
       "\n",
       "    .dataframe tbody tr th {\n",
       "        vertical-align: top;\n",
       "    }\n",
       "\n",
       "    .dataframe thead th {\n",
       "        text-align: right;\n",
       "    }\n",
       "</style>\n",
       "<table border=\"1\" class=\"dataframe\">\n",
       "  <thead>\n",
       "    <tr style=\"text-align: right;\">\n",
       "      <th></th>\n",
       "      <th>TABLE_NAME</th>\n",
       "    </tr>\n",
       "  </thead>\n",
       "  <tbody>\n",
       "    <tr>\n",
       "      <th>0</th>\n",
       "      <td>CDR</td>\n",
       "    </tr>\n",
       "    <tr>\n",
       "      <th>1</th>\n",
       "      <td>DimAgent</td>\n",
       "    </tr>\n",
       "    <tr>\n",
       "      <th>2</th>\n",
       "      <td>DimCustomer</td>\n",
       "    </tr>\n",
       "    <tr>\n",
       "      <th>3</th>\n",
       "      <td>DimGeography</td>\n",
       "    </tr>\n",
       "    <tr>\n",
       "      <th>4</th>\n",
       "      <td>DimHandleType</td>\n",
       "    </tr>\n",
       "    <tr>\n",
       "      <th>5</th>\n",
       "      <td>DimProduct</td>\n",
       "    </tr>\n",
       "    <tr>\n",
       "      <th>6</th>\n",
       "      <td>DimProductGroup</td>\n",
       "    </tr>\n",
       "    <tr>\n",
       "      <th>7</th>\n",
       "      <td>DimServiceType</td>\n",
       "    </tr>\n",
       "    <tr>\n",
       "      <th>8</th>\n",
       "      <td>DimSeverifyType</td>\n",
       "    </tr>\n",
       "  </tbody>\n",
       "</table>\n",
       "</div>"
      ],
      "text/plain": [
       "        TABLE_NAME\n",
       "0              CDR\n",
       "1         DimAgent\n",
       "2      DimCustomer\n",
       "3     DimGeography\n",
       "4    DimHandleType\n",
       "5       DimProduct\n",
       "6  DimProductGroup\n",
       "7   DimServiceType\n",
       "8  DimSeverifyType"
      ]
     },
     "execution_count": 5,
     "metadata": {},
     "output_type": "execute_result"
    }
   ],
   "source": [
    "tables = \"SELECT TABLE_NAME FROM INFORMATION_SCHEMA.TABLES WHERE TABLE_NAME !='sysdiagrams'\"\n",
    "tbls = pd.read_sql(tables,sql_conn)\n",
    "tbls.head(20)"
   ]
  },
  {
   "cell_type": "code",
   "execution_count": 17,
   "id": "db22e109",
   "metadata": {},
   "outputs": [
    {
     "name": "stdout",
     "output_type": "stream",
     "text": [
      "select * from [dbo].[CDR]\n",
      "select * from [dbo].[DimAgent]\n",
      "select * from [dbo].[DimCustomer]\n",
      "select * from [dbo].[DimGeography]\n",
      "select * from [dbo].[DimHandleType]\n",
      "select * from [dbo].[DimProduct]\n",
      "select * from [dbo].[DimProductGroup]\n",
      "select * from [dbo].[DimServiceType]\n",
      "select * from [dbo].[DimSeverifyType]\n"
     ]
    }
   ],
   "source": [
    "WD = r\"C:\\Courses\\DA-Project\\Data\"\n",
    "for index, row in tbls.iterrows():\n",
    "    name = row['TABLE_NAME']\n",
    "    query = \"select * from [dbo].[\"+ name + \"]\"\n",
    "    print(query)\n",
    "    df = pd.read_sql(query,sql_conn)\n",
    "    \n",
    "    df.to_csv(WD + \"/\" + name + '.csv',index=False)"
   ]
  },
  {
   "cell_type": "code",
   "execution_count": null,
   "id": "265423c5",
   "metadata": {},
   "outputs": [],
   "source": []
  }
 ],
 "metadata": {
  "kernelspec": {
   "display_name": "Python 3",
   "language": "python",
   "name": "python3"
  },
  "language_info": {
   "codemirror_mode": {
    "name": "ipython",
    "version": 3
   },
   "file_extension": ".py",
   "mimetype": "text/x-python",
   "name": "python",
   "nbconvert_exporter": "python",
   "pygments_lexer": "ipython3",
   "version": "3.8.5"
  }
 },
 "nbformat": 4,
 "nbformat_minor": 5
}
