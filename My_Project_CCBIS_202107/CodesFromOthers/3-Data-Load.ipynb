{
 "cells": [
  {
   "cell_type": "markdown",
   "metadata": {},
   "source": [
    "# ETL data into CCBISDW"
   ]
  },
  {
   "cell_type": "markdown",
   "metadata": {},
   "source": [
    "ETL会有各种方法：\n",
    "* Tools\n",
    "  * Export/Import (For streit data migration, no transformation included)\n",
    "  * SSIS/Data Fabric for cloud\n",
    "  * Informatica\n",
    "  * Talent\n",
    "  * Pantoho\n",
    "  * Nifi\n",
    "  * etc,\n",
    "* Programming\n",
    "  * Python\n",
    "  * T-SQL (Inside SQL Server amount databaseses)\n",
    "  * Java\n",
    "  * C#\n",
    "  * R\n",
    "  * SAS\n",
    "  * etc. <br>\n",
    "\n",
    "我们会根据具体的情况综合考虑一下因素：\n",
    "* Hadware/Software const\n",
    "* Development\n",
    "* Maintenance\n",
    "* Performance\n",
    "\n",
    "开发过程的code会多一点，因为会有一些实验性质的code，完成后进入production之前我们会做code cleaning，所以code就会比较简洁，而且会schedule job自动执行。\n",
    "另外也会加一些注释，为日后维护提供方便。一般code也会check in到source control，比如最常用的就是git。\n",
    "\n",
    "这里我们选择Python programming做ETL"
   ]
  },
  {
   "cell_type": "markdown",
   "metadata": {},
   "source": [
    "## Generate dataframe from CSV"
   ]
  },
  {
   "cell_type": "code",
   "execution_count": 33,
   "metadata": {},
   "outputs": [
    {
     "name": "stdout",
     "output_type": "stream",
     "text": [
      "Requirement already satisfied: sqlalchemy in c:\\programdata\\anaconda3\\lib\\site-packages (1.4.21)\n",
      "Requirement already satisfied: greenlet!=0.4.17 in c:\\programdata\\anaconda3\\lib\\site-packages (from sqlalchemy) (1.1.0)\n"
     ]
    }
   ],
   "source": [
    "## From SQL to DataFrame Pandas\n",
    "import pandas as pd\n",
    "import pyodbc\n",
    "import os\n",
    "import pandas as pd\n",
    "#!pip install sqlalchemy\n",
    "import sqlalchemy\n",
    "\n",
    "from sqlalchemy import create_engine, MetaData, Table, select\n",
    "from six.moves import urllib\n",
    "\n",
    "os.chdir(r\"C:\\Courses\\DA-Project\\Data\")\n",
    "ccbis_files=os.listdir()\n",
    "createVar = locals()\n",
    "for i in ccbis_files:\n",
    "    if i.endswith(\"csv\"):\n",
    "        createVar[i.split('.')[0]] = pd.read_csv(i)"
   ]
  },
  {
   "cell_type": "markdown",
   "metadata": {
    "scrolled": true
   },
   "source": [
    "## Create a database connection engine"
   ]
  },
  {
   "cell_type": "code",
   "execution_count": 9,
   "metadata": {},
   "outputs": [
    {
     "data": {
      "text/plain": [
       "<sqlalchemy.engine.base.Connection at 0x1fe00738fa0>"
      ]
     },
     "execution_count": 9,
     "metadata": {},
     "output_type": "execute_result"
    }
   ],
   "source": [
    "params = urllib.parse.quote_plus(\"DRIVER={SQL Server};SERVER=localhost;DATABASE=CCBISDW;UID=sa;PWD=SQLServer2019\")\n",
    "engine = sqlalchemy.create_engine(\"mssql+pyodbc:///?odbc_connect=%s\" % params) \n",
    "engine.connect() "
   ]
  },
  {
   "cell_type": "markdown",
   "metadata": {},
   "source": [
    "## Load DimAgent Table"
   ]
  },
  {
   "cell_type": "code",
   "execution_count": 10,
   "metadata": {},
   "outputs": [],
   "source": [
    "DimAgent.to_sql(name='DimAgent',con=engine, index=False, if_exists='append')"
   ]
  },
  {
   "cell_type": "markdown",
   "metadata": {},
   "source": [
    "## Load DimServerifyType table"
   ]
  },
  {
   "cell_type": "code",
   "execution_count": 17,
   "metadata": {},
   "outputs": [],
   "source": [
    "DimSeverifyType.to_sql(name='DimSeverifyType',con=engine, index=False, if_exists='append')"
   ]
  },
  {
   "cell_type": "markdown",
   "metadata": {},
   "source": [
    "## Load DimServiceType Table"
   ]
  },
  {
   "cell_type": "code",
   "execution_count": 35,
   "metadata": {},
   "outputs": [],
   "source": [
    "DimServiceType.to_sql(name='DimServiceType',con=engine, index=False, if_exists='append')"
   ]
  },
  {
   "cell_type": "markdown",
   "metadata": {},
   "source": [
    "## Load DimHandleType Table"
   ]
  },
  {
   "cell_type": "code",
   "execution_count": 28,
   "metadata": {},
   "outputs": [],
   "source": [
    "DimHandleType.to_sql(name='DimHandleType',con=engine, index=False, if_exists='append')"
   ]
  },
  {
   "cell_type": "markdown",
   "metadata": {},
   "source": [
    "## Load DimProduct Table"
   ]
  },
  {
   "cell_type": "code",
   "execution_count": 15,
   "metadata": {},
   "outputs": [],
   "source": [
    "DimProductGroup.columns = ['ProductGroup_Key','ProductGroup']\n",
    "DimPro = pd.merge(DimProduct,DimProductGroup, on='ProductGroup_Key')\n",
    "DimPro = DimPro[['Product_Key','Name','ProductGroup']]\n",
    "DimPro.to_sql(name='DimProduct',con=engine, index=False, if_exists='append')"
   ]
  },
  {
   "cell_type": "markdown",
   "metadata": {},
   "source": [
    "## Load Dimcustomer Table"
   ]
  },
  {
   "cell_type": "code",
   "execution_count": 27,
   "metadata": {},
   "outputs": [],
   "source": [
    "#DimProductGroup.columns = ['ProductGroup_Key','ProductGroup']\n",
    "DimCust = pd.merge(DimCustomer,DimGeography, on='GeographyKey')\n",
    "DimCust = DimCust.loc[:, DimCust.columns != 'GeographyKey']\n",
    "DimCust.to_sql(name='DimCustomer',con=engine, index=False, if_exists='append')"
   ]
  },
  {
   "cell_type": "markdown",
   "metadata": {},
   "source": [
    "## Load FactCDR"
   ]
  },
  {
   "cell_type": "code",
   "execution_count": 36,
   "metadata": {},
   "outputs": [],
   "source": [
    "CDR.to_sql(name='FactCDR',con=engine, index=False, if_exists='append')"
   ]
  },
  {
   "cell_type": "code",
   "execution_count": null,
   "metadata": {},
   "outputs": [],
   "source": []
  }
 ],
 "metadata": {
  "kernelspec": {
   "display_name": "Python 3",
   "language": "python",
   "name": "python3"
  },
  "language_info": {
   "codemirror_mode": {
    "name": "ipython",
    "version": 3
   },
   "file_extension": ".py",
   "mimetype": "text/x-python",
   "name": "python",
   "nbconvert_exporter": "python",
   "pygments_lexer": "ipython3",
   "version": "3.8.5"
  }
 },
 "nbformat": 4,
 "nbformat_minor": 2
}
