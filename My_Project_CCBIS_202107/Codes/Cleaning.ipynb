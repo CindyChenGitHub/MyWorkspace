{
 "metadata": {
  "language_info": {
   "codemirror_mode": {
    "name": "ipython",
    "version": 3
   },
   "file_extension": ".py",
   "mimetype": "text/x-python",
   "name": "python",
   "nbconvert_exporter": "python",
   "pygments_lexer": "ipython3",
   "version": "3.8.8"
  },
  "orig_nbformat": 4,
  "kernelspec": {
   "name": "python3",
   "display_name": "Python 3.8.8 64-bit ('base': conda)"
  },
  "interpreter": {
   "hash": "b3ba2566441a7c06988d0923437866b63cedc61552a5af99d1f4fb67d367b25f"
  }
 },
 "nbformat": 4,
 "nbformat_minor": 2,
 "cells": [
  {
   "source": [
    "# ETL phase 2, Data Cleaning - Missing Data"
   ],
   "cell_type": "markdown",
   "metadata": {}
  },
  {
   "source": [
    "#!pip install pandas\n",
    "#!pip install os\n",
    "#!pip install seaborn\n",
    "import pandas\n",
    "import pyodbc\n",
    "import numpy as np\n",
    "import os\n",
    "import glob\n",
    "import seaborn as sns\n",
    "import matplotlib.pyplot as plt\n",
    "import logging\n",
    "import time"
   ],
   "cell_type": "code",
   "metadata": {},
   "execution_count": 94,
   "outputs": []
  },
  {
   "cell_type": "code",
   "execution_count": 107,
   "metadata": {},
   "outputs": [],
   "source": [
    "# Set path\n",
    "my_path = r\"C:\\MyDataFiles\\Data_CCBIS_202107\"\n",
    "if not os.path.exists(my_path):\n",
    "    os.makedirs(my_path)\n",
    "    print(\"Directory created: \" + my_path)\n",
    "# Clean log files\n",
    "else:\n",
    "    logExtension = \".log\"\n",
    "    for root_folder, folders, files in os.walk(my_path):\n",
    "        for file in files:\n",
    "            file_path = os.path.join(root_folder, file)\n",
    "            file_extension = os.path.splitext(file)[1]\n",
    "            if file_extension == logExtension:\n",
    "                if not os.remove(file_path):\n",
    "                    print(\"File deleted successfully: \" + file_path)\n",
    "                else:\n",
    "                    print(\"Unable to delete the \" + file_path)\n",
    "# Create data directors\n",
    "my_path_CCBIS = my_path + \"\\CCBIS\"\n",
    "my_path_CCBISDW = my_path + \"\\CCBISDW\"\n",
    "my_path_cleaned = my_path + \"\\cleaned\"\n",
    "directors =  [my_path_CCBIS, my_path_CCBISDW, my_path_cleaned]\n",
    "for director in directors:\n",
    "    if not os.path.exists(director):\n",
    "        os.makedirs(director)\n",
    "        print('Directory created: ' + director)"
   ]
  },
  {
   "cell_type": "code",
   "execution_count": 40,
   "metadata": {},
   "outputs": [],
   "source": [
    "#=============================================================================\n",
    "#=== Set Logging configeration\n",
    "#=============================================================================\n",
    "# Set log file name\n",
    "log_fileName = time.strftime(\"%Y%m%d\") + '_CCBIS.log'\n",
    "# Set log file\n",
    "os.chdir(my_path)\n",
    "LOG = logging.getLogger(log_fileName)\n",
    "LOG.setLevel(logging.DEBUG)\n",
    "# create file handler which logs even debug messages\n",
    "fh = logging.FileHandler(log_fileName, 'w') # 'w'-overwrite; 'a'-append\n",
    "fh.setLevel(logging.INFO)\n",
    "# create console handler with a higher log level\n",
    "ch = logging.StreamHandler()\n",
    "ch.setLevel(logging.DEBUG)\n",
    "# create formatter and add it to the handlers\n",
    "formatter = logging.Formatter('%(asctime)s - %(name)s:[%(levelname)s] %(message)s')\n",
    "fh.setFormatter(formatter)\n",
    "ch.setFormatter(formatter)\n",
    "# add the handlers to the logger\n",
    "LOG.addHandler(fh)\n",
    "LOG.addHandler(ch)"
   ]
  },
  {
   "cell_type": "code",
   "execution_count": 157,
   "metadata": {},
   "outputs": [
    {
     "output_type": "stream",
     "name": "stdout",
     "text": [
      "==== Extract: from CCBIS(SQL Server) ====\n",
      "The tables are creating in C:\\MyDataFiles\\Data_CCBIS_202107\\CCBIS:\n",
      "--1. CDR.csv\n",
      "--2. DimAgent.csv\n",
      "--3. DimCustomer.csv\n",
      "--4. DimGeography.csv\n",
      "--5. DimHandleType.csv\n",
      "--6. DimProduct.csv\n",
      "--7. DimProductGroup.csv\n",
      "--8. DimServiceType.csv\n",
      "--9. DimSeverifyType.csv\n",
      "Extract Completed Successfully - 9 files created in C:\\MyDataFiles\\Data_CCBIS_202107\\CCBIS\n"
     ]
    }
   ],
   "source": [
    "#=============================================================================\n",
    "#=== Extract from CCBIS to CSV\n",
    "#=============================================================================\n",
    "\n",
    "print('==== Extract: from CCBIS(SQL Server) ====')\n",
    "\n",
    "#Set up SQL Server connector\n",
    "os.chdir(my_path_CCBIS)\n",
    "sql_conn = pyodbc.connect('DRIVER={SQL Server}; SERVER=localhost; DATABASE=CCBIS; UID=sa; PWD=SQLServer2019')\n",
    "\n",
    "# get table name list\n",
    "print('The tables are creating in ' + my_path_CCBIS + ':')\n",
    "tables = \"SELECT TABLE_NAME FROM INFORMATION_SCHEMA.TABLES WHERE TABLE_NAME != 'sysdiagrams'\"\n",
    "tbls = pandas.read_sql(tables, sql_conn)\n",
    "for index, row in tbls.iterrows():\n",
    "    tableName = row['TABLE_NAME']\n",
    "    print('--' + str(index+1) + '. ' + tableName + '.csv')  \n",
    "\n",
    "    # read from SQL Server CCBIS\n",
    "    query = \"SELECT * FROM [dbo].[\" + row['TABLE_NAME'] + \"]\"  \n",
    "    df = pandas.read_sql(query, sql_conn)\n",
    "\n",
    "    # write to CCBIS/*.csv\n",
    "    df.to_csv(my_path_CCBIS + \"/\" + tableName + '.csv', index = False)\n",
    "\n",
    "print('Extract Completed Successfully - ' + str(len(os.listdir('.'))) + ' files created in ' + my_path_CCBIS)"
   ]
  },
  {
   "source": [
    "## --Cleaning Duplicate Data"
   ],
   "cell_type": "markdown",
   "metadata": {}
  },
  {
   "cell_type": "code",
   "execution_count": 161,
   "metadata": {},
   "outputs": [
    {
     "output_type": "stream",
     "name": "stdout",
     "text": [
      "==== Cleaning Duplicate Data ====\n",
      "\n",
      "From: CDR.csv(16100, 17)\n",
      "To:   CDR_clean.csv(16000, 17)\n",
      "------[Duplication] 100 records dropped from CDR.csv\n",
      "\n",
      "From: DimAgent.csv(101, 4)\n",
      "To:   DimAgent_clean.csv(100, 4)\n",
      "------[Duplication] 1 records dropped from DimAgent.csv\n",
      "\n",
      "From: DimCustomer.csv(18484, 28)\n",
      "To:   DimCustomer_clean.csv(18484, 28)\n",
      "\n",
      "From: DimGeography.csv(655, 9)\n",
      "To:   DimGeography_clean.csv(655, 9)\n",
      "\n",
      "From: DimHandleType.csv(3, 1)\n",
      "To:   DimHandleType_clean.csv(3, 1)\n",
      "\n",
      "From: DimProduct.csv(25, 2)\n",
      "To:   DimProduct_clean.csv(25, 2)\n",
      "\n",
      "From: DimProductGroup.csv(5, 1)\n",
      "To:   DimProductGroup_clean.csv(5, 1)\n",
      "\n",
      "From: DimServiceType.csv(16, 1)\n",
      "To:   DimServiceType_clean.csv(16, 1)\n",
      "\n",
      "From: DimSeverifyType.csv(3, 1)\n",
      "To:   DimSeverifyType_clean.csv(3, 1)\n"
     ]
    }
   ],
   "source": [
    "# Cleaning Duplicate Data\n",
    "os.chdir(my_path_CCBIS)\n",
    "print(\"==== Cleaning Duplicate Data ====\")\n",
    "\n",
    "for file in glob.glob(\"*.csv\"):\n",
    "    # Get table info\n",
    "    tableName = str(file)[:-4]\n",
    "    pkNameQuery = \"SELECT Col.Column_Name as PkName from INFORMATION_SCHEMA.TABLE_CONSTRAINTS Tab, INFORMATION_SCHEMA.CONSTRAINT_COLUMN_USAGE Col WHERE Col.Constraint_Name = Tab.Constraint_Name AND Col.Table_Name = Tab.Table_Name AND Constraint_Type = 'PRIMARY KEY' AND Col.Table_Name = '\" + tableName +\"'\"\n",
    "    pkList = list(pandas.read_sql(pkNameQuery, sql_conn)[\"PkName\"])\n",
    "\n",
    "    # Get data\n",
    "    df = pandas.read_csv(file, index_col = pkList)\n",
    "    size_org = df.shape[0]\n",
    "    print('\\nFrom: ' + file + str(df.shape))\n",
    "\n",
    "\n",
    "    # Drop duplicate\n",
    "    df.drop_duplicates(keep=\"first\", inplace=True)  \n",
    "    size_cleaned = df.shape[0]\n",
    "    newFile = str(file)[:-4] + \"_clean.csv\"   \n",
    "    print('To:   ' + newFile + str(df.shape))\n",
    "    num_duplication = size_org - size_cleaned\n",
    "    if num_duplication > 0:\n",
    "        print('------[Duplication] ' + str(num_duplication) + ' records dropped from ' + file)\n",
    "\n",
    "    # Write to new file\n",
    "    df.to_csv(my_path_cleaned + \"/\" + newFile)\n",
    "\n",
    "    os.chdir(my_path_CCBIS)"
   ]
  },
  {
   "source": [
    "## -- Cleaning Missing Data"
   ],
   "cell_type": "markdown",
   "metadata": {}
  },
  {
   "source": [
    "# Cleaning Missing Date\n",
    "\n",
    "os.chdir(my_path_CCBIS)\n",
    "print(\"==== Cleaning Missing Data ====\")\n",
    "colours = ['#000099', '#ffff00'] # specify the colours - yellow is missing. blue is not missing.\n",
    "\n",
    "for file in glob.glob(\"*.csv\"):\n",
    "    # Get table info\n",
    "    tableName = str(file)[:-4]\n",
    "    pkNameQuery = \"SELECT Col.Column_Name as PkName from INFORMATION_SCHEMA.TABLE_CONSTRAINTS Tab, INFORMATION_SCHEMA.CONSTRAINT_COLUMN_USAGE Col WHERE Col.Constraint_Name = Tab.Constraint_Name AND Col.Table_Name = Tab.Table_Name AND Constraint_Type = 'PRIMARY KEY' AND Col.Table_Name = '\" + tableName +\"'\"\n",
    "    pkList = list(pandas.read_sql(pkNameQuery, sql_conn)[\"PkName\"])\n",
    "\n",
    "    # Get data\n",
    "    df = pandas.read_csv(file, index_col = pkList)\n",
    "    size_org = df.shape[0]\n",
    "    cols = df.columns\n",
    "    print('\\nFrom: ' + file + str(df.shape))\n",
    "    newFile = str(file)[:-4] + \"_clean.csv\"   \n",
    "    print('To:   ' + newFile + str(df.shape))\n",
    "\n",
    "    # set numeric columns\n",
    "    df_numeric = df.select_dtypes(include=[np.number])\n",
    "    numeric_cols = df_numeric.columns.values\n",
    "   \n",
    "    # set non numeric columns\n",
    "    df_non_numeric = df.select_dtypes(exclude=[np.number])\n",
    "    non_numeric_cols = df_non_numeric.columns.values\n",
    "     \n",
    "    for col in df.columns:\n",
    "        missing = df[col].isnull()\n",
    "        num_missing = np.sum(missing)\n",
    "        pct_missing = np.mean(missing)\n",
    "             \n",
    "        if num_missing > 0: \n",
    "            # Print Missing Data Percentage List - % of missing.\n",
    "            #print('------[Missing] ' + file + ' {} - {}%'.format(col, round(pct_missing*100)) + ', ' + str(num_missing) + ' missing, ')\n",
    "            df['{}_ismissing'.format(col)] = missing\n",
    "            # When numeric, fill with midian value \n",
    "            if col in numeric_cols:\n",
    "                med = df[col].median()\n",
    "                df[col] = df[col].fillna(med)\n",
    "                print('------[Missing] ' + file + ' {} - {}%'.format(col, round(pct_missing*100)) + ', ' + str(num_missing) + ' missed, filling with ' + str(med))\n",
    "            # When not numeric, fill with most frequent value     \n",
    "            else:\n",
    "                top = df[col].describe()['top'] # impute with the most frequent value.\n",
    "                df[col] = df[col].fillna(top)\n",
    "                print('------[Missing] ' + file + ' {} - {}%'.format(col, round(pct_missing*100)) + ', ' + str(num_missing) + ' missed, filling with \"' + top + '\"')\n",
    "\n",
    "# Write to new file\n",
    "    df.to_csv(my_path_cleaned + \"/\" + newFile)\n",
    "\n",
    "    os.chdir(my_path_CCBIS)"
   ],
   "cell_type": "code",
   "metadata": {},
   "execution_count": 162,
   "outputs": [
    {
     "output_type": "stream",
     "name": "stdout",
     "text": [
      "==== Cleaning Missing Data ====\n",
      "\n",
      "From: CDR.csv(16100, 17)\n",
      "To:   CDR_clean.csv(16100, 17)\n",
      "\n",
      "From: DimAgent.csv(101, 4)\n",
      "To:   DimAgent_clean.csv(101, 4)\n",
      "\n",
      "From: DimCustomer.csv(18484, 28)\n",
      "To:   DimCustomer_clean.csv(18484, 28)\n",
      "------[Missing] DimCustomer.csv Title - 99%, 18383 missing, filled with \"Mr.\"\n",
      "------[Missing] DimCustomer.csv MiddleName - 42%, 7830 missing, filled with \"A\"\n",
      "------[Missing] DimCustomer.csv LastName - 0%, 1 missing, filled with \"Diaz\"\n",
      "------[Missing] DimCustomer.csv Suffix - 100%, 18481 missing, filled with \"Jr.\"\n",
      "------[Missing] DimCustomer.csv AddressLine2 - 98%, 18172 missing, filled with \"Verkaufsabteilung\"\n",
      "\n",
      "From: DimGeography.csv(655, 9)\n",
      "To:   DimGeography_clean.csv(655, 9)\n",
      "\n",
      "From: DimHandleType.csv(3, 1)\n",
      "To:   DimHandleType_clean.csv(3, 1)\n",
      "\n",
      "From: DimProduct.csv(25, 2)\n",
      "To:   DimProduct_clean.csv(25, 2)\n",
      "\n",
      "From: DimProductGroup.csv(5, 1)\n",
      "To:   DimProductGroup_clean.csv(5, 1)\n",
      "\n",
      "From: DimServiceType.csv(16, 1)\n",
      "To:   DimServiceType_clean.csv(16, 1)\n",
      "\n",
      "From: DimSeverifyType.csv(3, 1)\n",
      "To:   DimSeverifyType_clean.csv(3, 1)\n"
     ]
    }
   ]
  },
  {
   "source": [
    "## -- Cleaning Outliner"
   ],
   "cell_type": "markdown",
   "metadata": {}
  },
  {
   "cell_type": "code",
   "execution_count": 149,
   "metadata": {},
   "outputs": [
    {
     "output_type": "stream",
     "name": "stdout",
     "text": [
      "==== Cleaning Outliner ====\n\nFrom: CDR.csv(16100, 17)\n"
     ]
    },
    {
     "output_type": "display_data",
     "data": {
      "text/plain": "<Figure size 432x288 with 1 Axes>",
      "image/svg+xml": "<?xml version=\"1.0\" encoding=\"utf-8\" standalone=\"no\"?>\r\n<!DOCTYPE svg PUBLIC \"-//W3C//DTD SVG 1.1//EN\"\r\n  \"http://www.w3.org/Graphics/SVG/1.1/DTD/svg11.dtd\">\r\n<!-- Created with matplotlib (https://matplotlib.org/) -->\r\n<svg height=\"248.518125pt\" version=\"1.1\" viewBox=\"0 0 368.925 248.518125\" width=\"368.925pt\" xmlns=\"http://www.w3.org/2000/svg\" xmlns:xlink=\"http://www.w3.org/1999/xlink\">\r\n <metadata>\r\n  <rdf:RDF xmlns:cc=\"http://creativecommons.org/ns#\" xmlns:dc=\"http://purl.org/dc/elements/1.1/\" xmlns:rdf=\"http://www.w3.org/1999/02/22-rdf-syntax-ns#\">\r\n   <cc:Work>\r\n    <dc:type rdf:resource=\"http://purl.org/dc/dcmitype/StillImage\"/>\r\n    <dc:date>2021-07-23T17:17:19.458111</dc:date>\r\n    <dc:format>image/svg+xml</dc:format>\r\n    <dc:creator>\r\n     <cc:Agent>\r\n      <dc:title>Matplotlib v3.3.4, https://matplotlib.org/</dc:title>\r\n     </cc:Agent>\r\n    </dc:creator>\r\n   </cc:Work>\r\n  </rdf:RDF>\r\n </metadata>\r\n <defs>\r\n  <style type=\"text/css\">*{stroke-linecap:butt;stroke-linejoin:round;}</style>\r\n </defs>\r\n <g id=\"figure_1\">\r\n  <g id=\"patch_1\">\r\n   <path d=\"M -0 248.518125 \r\nL 368.925 248.518125 \r\nL 368.925 0 \r\nL -0 0 \r\nz\r\n\" style=\"fill:none;\"/>\r\n  </g>\r\n  <g id=\"axes_1\">\r\n   <g id=\"patch_2\">\r\n    <path d=\"M 26.925 224.64 \r\nL 361.725 224.64 \r\nL 361.725 7.2 \r\nL 26.925 7.2 \r\nz\r\n\" style=\"fill:#ffffff;\"/>\r\n   </g>\r\n   <g id=\"matplotlib.axis_1\">\r\n    <g id=\"xtick_1\">\r\n     <g id=\"line2d_1\">\r\n      <path clip-path=\"url(#p14c54ae020)\" d=\"M 194.325 224.64 \r\nL 194.325 7.2 \r\n\" style=\"fill:none;stroke:#b0b0b0;stroke-linecap:square;stroke-width:0.8;\"/>\r\n     </g>\r\n     <g id=\"line2d_2\">\r\n      <defs>\r\n       <path d=\"M 0 0 \r\nL 0 3.5 \r\n\" id=\"m6a5c614d09\" style=\"stroke:#000000;stroke-width:0.8;\"/>\r\n      </defs>\r\n      <g>\r\n       <use style=\"stroke:#000000;stroke-width:0.8;\" x=\"194.325\" xlink:href=\"#m6a5c614d09\" y=\"224.64\"/>\r\n      </g>\r\n     </g>\r\n     <g id=\"text_1\">\r\n      <!-- NPS -->\r\n      <g transform=\"translate(184.395313 239.238437)scale(0.1 -0.1)\">\r\n       <defs>\r\n        <path d=\"M 9.8125 72.90625 \r\nL 23.09375 72.90625 \r\nL 55.421875 11.921875 \r\nL 55.421875 72.90625 \r\nL 64.984375 72.90625 \r\nL 64.984375 0 \r\nL 51.703125 0 \r\nL 19.390625 60.984375 \r\nL 19.390625 0 \r\nL 9.8125 0 \r\nz\r\n\" id=\"DejaVuSans-78\"/>\r\n        <path d=\"M 19.671875 64.796875 \r\nL 19.671875 37.40625 \r\nL 32.078125 37.40625 \r\nQ 38.96875 37.40625 42.71875 40.96875 \r\nQ 46.484375 44.53125 46.484375 51.125 \r\nQ 46.484375 57.671875 42.71875 61.234375 \r\nQ 38.96875 64.796875 32.078125 64.796875 \r\nz\r\nM 9.8125 72.90625 \r\nL 32.078125 72.90625 \r\nQ 44.34375 72.90625 50.609375 67.359375 \r\nQ 56.890625 61.8125 56.890625 51.125 \r\nQ 56.890625 40.328125 50.609375 34.8125 \r\nQ 44.34375 29.296875 32.078125 29.296875 \r\nL 19.671875 29.296875 \r\nL 19.671875 0 \r\nL 9.8125 0 \r\nz\r\n\" id=\"DejaVuSans-80\"/>\r\n        <path d=\"M 53.515625 70.515625 \r\nL 53.515625 60.890625 \r\nQ 47.90625 63.578125 42.921875 64.890625 \r\nQ 37.9375 66.21875 33.296875 66.21875 \r\nQ 25.25 66.21875 20.875 63.09375 \r\nQ 16.5 59.96875 16.5 54.203125 \r\nQ 16.5 49.359375 19.40625 46.890625 \r\nQ 22.3125 44.4375 30.421875 42.921875 \r\nL 36.375 41.703125 \r\nQ 47.40625 39.59375 52.65625 34.296875 \r\nQ 57.90625 29 57.90625 20.125 \r\nQ 57.90625 9.515625 50.796875 4.046875 \r\nQ 43.703125 -1.421875 29.984375 -1.421875 \r\nQ 24.8125 -1.421875 18.96875 -0.25 \r\nQ 13.140625 0.921875 6.890625 3.21875 \r\nL 6.890625 13.375 \r\nQ 12.890625 10.015625 18.65625 8.296875 \r\nQ 24.421875 6.59375 29.984375 6.59375 \r\nQ 38.421875 6.59375 43.015625 9.90625 \r\nQ 47.609375 13.234375 47.609375 19.390625 \r\nQ 47.609375 24.75 44.3125 27.78125 \r\nQ 41.015625 30.8125 33.5 32.328125 \r\nL 27.484375 33.5 \r\nQ 16.453125 35.6875 11.515625 40.375 \r\nQ 6.59375 45.0625 6.59375 53.421875 \r\nQ 6.59375 63.09375 13.40625 68.65625 \r\nQ 20.21875 74.21875 32.171875 74.21875 \r\nQ 37.3125 74.21875 42.625 73.28125 \r\nQ 47.953125 72.359375 53.515625 70.515625 \r\nz\r\n\" id=\"DejaVuSans-83\"/>\r\n       </defs>\r\n       <use xlink:href=\"#DejaVuSans-78\"/>\r\n       <use x=\"74.804688\" xlink:href=\"#DejaVuSans-80\"/>\r\n       <use x=\"135.107422\" xlink:href=\"#DejaVuSans-83\"/>\r\n      </g>\r\n     </g>\r\n    </g>\r\n   </g>\r\n   <g id=\"matplotlib.axis_2\">\r\n    <g id=\"ytick_1\">\r\n     <g id=\"line2d_3\">\r\n      <path clip-path=\"url(#p14c54ae020)\" d=\"M 26.925 214.756364 \r\nL 361.725 214.756364 \r\n\" style=\"fill:none;stroke:#b0b0b0;stroke-linecap:square;stroke-width:0.8;\"/>\r\n     </g>\r\n     <g id=\"line2d_4\">\r\n      <defs>\r\n       <path d=\"M 0 0 \r\nL -3.5 0 \r\n\" id=\"mf0c023b562\" style=\"stroke:#000000;stroke-width:0.8;\"/>\r\n      </defs>\r\n      <g>\r\n       <use style=\"stroke:#000000;stroke-width:0.8;\" x=\"26.925\" xlink:href=\"#mf0c023b562\" y=\"214.756364\"/>\r\n      </g>\r\n     </g>\r\n     <g id=\"text_2\">\r\n      <!-- 0 -->\r\n      <g transform=\"translate(13.5625 218.555582)scale(0.1 -0.1)\">\r\n       <defs>\r\n        <path d=\"M 31.78125 66.40625 \r\nQ 24.171875 66.40625 20.328125 58.90625 \r\nQ 16.5 51.421875 16.5 36.375 \r\nQ 16.5 21.390625 20.328125 13.890625 \r\nQ 24.171875 6.390625 31.78125 6.390625 \r\nQ 39.453125 6.390625 43.28125 13.890625 \r\nQ 47.125 21.390625 47.125 36.375 \r\nQ 47.125 51.421875 43.28125 58.90625 \r\nQ 39.453125 66.40625 31.78125 66.40625 \r\nz\r\nM 31.78125 74.21875 \r\nQ 44.046875 74.21875 50.515625 64.515625 \r\nQ 56.984375 54.828125 56.984375 36.375 \r\nQ 56.984375 17.96875 50.515625 8.265625 \r\nQ 44.046875 -1.421875 31.78125 -1.421875 \r\nQ 19.53125 -1.421875 13.0625 8.265625 \r\nQ 6.59375 17.96875 6.59375 36.375 \r\nQ 6.59375 54.828125 13.0625 64.515625 \r\nQ 19.53125 74.21875 31.78125 74.21875 \r\nz\r\n\" id=\"DejaVuSans-48\"/>\r\n       </defs>\r\n       <use xlink:href=\"#DejaVuSans-48\"/>\r\n      </g>\r\n     </g>\r\n    </g>\r\n    <g id=\"ytick_2\">\r\n     <g id=\"line2d_5\">\r\n      <path clip-path=\"url(#p14c54ae020)\" d=\"M 26.925 181.810909 \r\nL 361.725 181.810909 \r\n\" style=\"fill:none;stroke:#b0b0b0;stroke-linecap:square;stroke-width:0.8;\"/>\r\n     </g>\r\n     <g id=\"line2d_6\">\r\n      <g>\r\n       <use style=\"stroke:#000000;stroke-width:0.8;\" x=\"26.925\" xlink:href=\"#mf0c023b562\" y=\"181.810909\"/>\r\n      </g>\r\n     </g>\r\n     <g id=\"text_3\">\r\n      <!-- 2 -->\r\n      <g transform=\"translate(13.5625 185.610128)scale(0.1 -0.1)\">\r\n       <defs>\r\n        <path d=\"M 19.1875 8.296875 \r\nL 53.609375 8.296875 \r\nL 53.609375 0 \r\nL 7.328125 0 \r\nL 7.328125 8.296875 \r\nQ 12.9375 14.109375 22.625 23.890625 \r\nQ 32.328125 33.6875 34.8125 36.53125 \r\nQ 39.546875 41.84375 41.421875 45.53125 \r\nQ 43.3125 49.21875 43.3125 52.78125 \r\nQ 43.3125 58.59375 39.234375 62.25 \r\nQ 35.15625 65.921875 28.609375 65.921875 \r\nQ 23.96875 65.921875 18.8125 64.3125 \r\nQ 13.671875 62.703125 7.8125 59.421875 \r\nL 7.8125 69.390625 \r\nQ 13.765625 71.78125 18.9375 73 \r\nQ 24.125 74.21875 28.421875 74.21875 \r\nQ 39.75 74.21875 46.484375 68.546875 \r\nQ 53.21875 62.890625 53.21875 53.421875 \r\nQ 53.21875 48.921875 51.53125 44.890625 \r\nQ 49.859375 40.875 45.40625 35.40625 \r\nQ 44.1875 33.984375 37.640625 27.21875 \r\nQ 31.109375 20.453125 19.1875 8.296875 \r\nz\r\n\" id=\"DejaVuSans-50\"/>\r\n       </defs>\r\n       <use xlink:href=\"#DejaVuSans-50\"/>\r\n      </g>\r\n     </g>\r\n    </g>\r\n    <g id=\"ytick_3\">\r\n     <g id=\"line2d_7\">\r\n      <path clip-path=\"url(#p14c54ae020)\" d=\"M 26.925 148.865455 \r\nL 361.725 148.865455 \r\n\" style=\"fill:none;stroke:#b0b0b0;stroke-linecap:square;stroke-width:0.8;\"/>\r\n     </g>\r\n     <g id=\"line2d_8\">\r\n      <g>\r\n       <use style=\"stroke:#000000;stroke-width:0.8;\" x=\"26.925\" xlink:href=\"#mf0c023b562\" y=\"148.865455\"/>\r\n      </g>\r\n     </g>\r\n     <g id=\"text_4\">\r\n      <!-- 4 -->\r\n      <g transform=\"translate(13.5625 152.664673)scale(0.1 -0.1)\">\r\n       <defs>\r\n        <path d=\"M 37.796875 64.3125 \r\nL 12.890625 25.390625 \r\nL 37.796875 25.390625 \r\nz\r\nM 35.203125 72.90625 \r\nL 47.609375 72.90625 \r\nL 47.609375 25.390625 \r\nL 58.015625 25.390625 \r\nL 58.015625 17.1875 \r\nL 47.609375 17.1875 \r\nL 47.609375 0 \r\nL 37.796875 0 \r\nL 37.796875 17.1875 \r\nL 4.890625 17.1875 \r\nL 4.890625 26.703125 \r\nz\r\n\" id=\"DejaVuSans-52\"/>\r\n       </defs>\r\n       <use xlink:href=\"#DejaVuSans-52\"/>\r\n      </g>\r\n     </g>\r\n    </g>\r\n    <g id=\"ytick_4\">\r\n     <g id=\"line2d_9\">\r\n      <path clip-path=\"url(#p14c54ae020)\" d=\"M 26.925 115.92 \r\nL 361.725 115.92 \r\n\" style=\"fill:none;stroke:#b0b0b0;stroke-linecap:square;stroke-width:0.8;\"/>\r\n     </g>\r\n     <g id=\"line2d_10\">\r\n      <g>\r\n       <use style=\"stroke:#000000;stroke-width:0.8;\" x=\"26.925\" xlink:href=\"#mf0c023b562\" y=\"115.92\"/>\r\n      </g>\r\n     </g>\r\n     <g id=\"text_5\">\r\n      <!-- 6 -->\r\n      <g transform=\"translate(13.5625 119.719219)scale(0.1 -0.1)\">\r\n       <defs>\r\n        <path d=\"M 33.015625 40.375 \r\nQ 26.375 40.375 22.484375 35.828125 \r\nQ 18.609375 31.296875 18.609375 23.390625 \r\nQ 18.609375 15.53125 22.484375 10.953125 \r\nQ 26.375 6.390625 33.015625 6.390625 \r\nQ 39.65625 6.390625 43.53125 10.953125 \r\nQ 47.40625 15.53125 47.40625 23.390625 \r\nQ 47.40625 31.296875 43.53125 35.828125 \r\nQ 39.65625 40.375 33.015625 40.375 \r\nz\r\nM 52.59375 71.296875 \r\nL 52.59375 62.3125 \r\nQ 48.875 64.0625 45.09375 64.984375 \r\nQ 41.3125 65.921875 37.59375 65.921875 \r\nQ 27.828125 65.921875 22.671875 59.328125 \r\nQ 17.53125 52.734375 16.796875 39.40625 \r\nQ 19.671875 43.65625 24.015625 45.921875 \r\nQ 28.375 48.1875 33.59375 48.1875 \r\nQ 44.578125 48.1875 50.953125 41.515625 \r\nQ 57.328125 34.859375 57.328125 23.390625 \r\nQ 57.328125 12.15625 50.6875 5.359375 \r\nQ 44.046875 -1.421875 33.015625 -1.421875 \r\nQ 20.359375 -1.421875 13.671875 8.265625 \r\nQ 6.984375 17.96875 6.984375 36.375 \r\nQ 6.984375 53.65625 15.1875 63.9375 \r\nQ 23.390625 74.21875 37.203125 74.21875 \r\nQ 40.921875 74.21875 44.703125 73.484375 \r\nQ 48.484375 72.75 52.59375 71.296875 \r\nz\r\n\" id=\"DejaVuSans-54\"/>\r\n       </defs>\r\n       <use xlink:href=\"#DejaVuSans-54\"/>\r\n      </g>\r\n     </g>\r\n    </g>\r\n    <g id=\"ytick_5\">\r\n     <g id=\"line2d_11\">\r\n      <path clip-path=\"url(#p14c54ae020)\" d=\"M 26.925 82.974545 \r\nL 361.725 82.974545 \r\n\" style=\"fill:none;stroke:#b0b0b0;stroke-linecap:square;stroke-width:0.8;\"/>\r\n     </g>\r\n     <g id=\"line2d_12\">\r\n      <g>\r\n       <use style=\"stroke:#000000;stroke-width:0.8;\" x=\"26.925\" xlink:href=\"#mf0c023b562\" y=\"82.974545\"/>\r\n      </g>\r\n     </g>\r\n     <g id=\"text_6\">\r\n      <!-- 8 -->\r\n      <g transform=\"translate(13.5625 86.773764)scale(0.1 -0.1)\">\r\n       <defs>\r\n        <path d=\"M 31.78125 34.625 \r\nQ 24.75 34.625 20.71875 30.859375 \r\nQ 16.703125 27.09375 16.703125 20.515625 \r\nQ 16.703125 13.921875 20.71875 10.15625 \r\nQ 24.75 6.390625 31.78125 6.390625 \r\nQ 38.8125 6.390625 42.859375 10.171875 \r\nQ 46.921875 13.96875 46.921875 20.515625 \r\nQ 46.921875 27.09375 42.890625 30.859375 \r\nQ 38.875 34.625 31.78125 34.625 \r\nz\r\nM 21.921875 38.8125 \r\nQ 15.578125 40.375 12.03125 44.71875 \r\nQ 8.5 49.078125 8.5 55.328125 \r\nQ 8.5 64.0625 14.71875 69.140625 \r\nQ 20.953125 74.21875 31.78125 74.21875 \r\nQ 42.671875 74.21875 48.875 69.140625 \r\nQ 55.078125 64.0625 55.078125 55.328125 \r\nQ 55.078125 49.078125 51.53125 44.71875 \r\nQ 48 40.375 41.703125 38.8125 \r\nQ 48.828125 37.15625 52.796875 32.3125 \r\nQ 56.78125 27.484375 56.78125 20.515625 \r\nQ 56.78125 9.90625 50.3125 4.234375 \r\nQ 43.84375 -1.421875 31.78125 -1.421875 \r\nQ 19.734375 -1.421875 13.25 4.234375 \r\nQ 6.78125 9.90625 6.78125 20.515625 \r\nQ 6.78125 27.484375 10.78125 32.3125 \r\nQ 14.796875 37.15625 21.921875 38.8125 \r\nz\r\nM 18.3125 54.390625 \r\nQ 18.3125 48.734375 21.84375 45.5625 \r\nQ 25.390625 42.390625 31.78125 42.390625 \r\nQ 38.140625 42.390625 41.71875 45.5625 \r\nQ 45.3125 48.734375 45.3125 54.390625 \r\nQ 45.3125 60.0625 41.71875 63.234375 \r\nQ 38.140625 66.40625 31.78125 66.40625 \r\nQ 25.390625 66.40625 21.84375 63.234375 \r\nQ 18.3125 60.0625 18.3125 54.390625 \r\nz\r\n\" id=\"DejaVuSans-56\"/>\r\n       </defs>\r\n       <use xlink:href=\"#DejaVuSans-56\"/>\r\n      </g>\r\n     </g>\r\n    </g>\r\n    <g id=\"ytick_6\">\r\n     <g id=\"line2d_13\">\r\n      <path clip-path=\"url(#p14c54ae020)\" d=\"M 26.925 50.029091 \r\nL 361.725 50.029091 \r\n\" style=\"fill:none;stroke:#b0b0b0;stroke-linecap:square;stroke-width:0.8;\"/>\r\n     </g>\r\n     <g id=\"line2d_14\">\r\n      <g>\r\n       <use style=\"stroke:#000000;stroke-width:0.8;\" x=\"26.925\" xlink:href=\"#mf0c023b562\" y=\"50.029091\"/>\r\n      </g>\r\n     </g>\r\n     <g id=\"text_7\">\r\n      <!-- 10 -->\r\n      <g transform=\"translate(7.2 53.82831)scale(0.1 -0.1)\">\r\n       <defs>\r\n        <path d=\"M 12.40625 8.296875 \r\nL 28.515625 8.296875 \r\nL 28.515625 63.921875 \r\nL 10.984375 60.40625 \r\nL 10.984375 69.390625 \r\nL 28.421875 72.90625 \r\nL 38.28125 72.90625 \r\nL 38.28125 8.296875 \r\nL 54.390625 8.296875 \r\nL 54.390625 0 \r\nL 12.40625 0 \r\nz\r\n\" id=\"DejaVuSans-49\"/>\r\n       </defs>\r\n       <use xlink:href=\"#DejaVuSans-49\"/>\r\n       <use x=\"63.623047\" xlink:href=\"#DejaVuSans-48\"/>\r\n      </g>\r\n     </g>\r\n    </g>\r\n    <g id=\"ytick_7\">\r\n     <g id=\"line2d_15\">\r\n      <path clip-path=\"url(#p14c54ae020)\" d=\"M 26.925 17.083636 \r\nL 361.725 17.083636 \r\n\" style=\"fill:none;stroke:#b0b0b0;stroke-linecap:square;stroke-width:0.8;\"/>\r\n     </g>\r\n     <g id=\"line2d_16\">\r\n      <g>\r\n       <use style=\"stroke:#000000;stroke-width:0.8;\" x=\"26.925\" xlink:href=\"#mf0c023b562\" y=\"17.083636\"/>\r\n      </g>\r\n     </g>\r\n     <g id=\"text_8\">\r\n      <!-- 12 -->\r\n      <g transform=\"translate(7.2 20.882855)scale(0.1 -0.1)\">\r\n       <use xlink:href=\"#DejaVuSans-49\"/>\r\n       <use x=\"63.623047\" xlink:href=\"#DejaVuSans-50\"/>\r\n      </g>\r\n     </g>\r\n    </g>\r\n   </g>\r\n   <g id=\"line2d_17\">\r\n    <path clip-path=\"url(#p14c54ae020)\" d=\"M 169.215 181.810909 \r\nL 219.435 181.810909 \r\nL 219.435 66.501818 \r\nL 169.215 66.501818 \r\nL 169.215 181.810909 \r\n\" style=\"fill:none;stroke:#1f77b4;stroke-linecap:square;\"/>\r\n   </g>\r\n   <g id=\"line2d_18\">\r\n    <path clip-path=\"url(#p14c54ae020)\" d=\"M 194.325 181.810909 \r\nL 194.325 214.756364 \r\n\" style=\"fill:none;stroke:#1f77b4;stroke-linecap:square;\"/>\r\n   </g>\r\n   <g id=\"line2d_19\">\r\n    <path clip-path=\"url(#p14c54ae020)\" d=\"M 194.325 66.501818 \r\nL 194.325 17.083636 \r\n\" style=\"fill:none;stroke:#1f77b4;stroke-linecap:square;\"/>\r\n   </g>\r\n   <g id=\"line2d_20\">\r\n    <path clip-path=\"url(#p14c54ae020)\" d=\"M 181.77 214.756364 \r\nL 206.88 214.756364 \r\n\" style=\"fill:none;stroke:#000000;stroke-linecap:square;\"/>\r\n   </g>\r\n   <g id=\"line2d_21\">\r\n    <path clip-path=\"url(#p14c54ae020)\" d=\"M 181.77 17.083636 \r\nL 206.88 17.083636 \r\n\" style=\"fill:none;stroke:#000000;stroke-linecap:square;\"/>\r\n   </g>\r\n   <g id=\"line2d_22\"/>\r\n   <g id=\"line2d_23\">\r\n    <path clip-path=\"url(#p14c54ae020)\" d=\"M 169.215 115.92 \r\nL 219.435 115.92 \r\n\" style=\"fill:none;stroke:#2ca02c;stroke-linecap:square;\"/>\r\n   </g>\r\n   <g id=\"patch_3\">\r\n    <path d=\"M 26.925 224.64 \r\nL 26.925 7.2 \r\n\" style=\"fill:none;stroke:#000000;stroke-linecap:square;stroke-linejoin:miter;stroke-width:0.8;\"/>\r\n   </g>\r\n   <g id=\"patch_4\">\r\n    <path d=\"M 361.725 224.64 \r\nL 361.725 7.2 \r\n\" style=\"fill:none;stroke:#000000;stroke-linecap:square;stroke-linejoin:miter;stroke-width:0.8;\"/>\r\n   </g>\r\n   <g id=\"patch_5\">\r\n    <path d=\"M 26.925 224.64 \r\nL 361.725 224.64 \r\n\" style=\"fill:none;stroke:#000000;stroke-linecap:square;stroke-linejoin:miter;stroke-width:0.8;\"/>\r\n   </g>\r\n   <g id=\"patch_6\">\r\n    <path d=\"M 26.925 7.2 \r\nL 361.725 7.2 \r\n\" style=\"fill:none;stroke:#000000;stroke-linecap:square;stroke-linejoin:miter;stroke-width:0.8;\"/>\r\n   </g>\r\n  </g>\r\n </g>\r\n <defs>\r\n  <clipPath id=\"p14c54ae020\">\r\n   <rect height=\"217.44\" width=\"334.8\" x=\"26.925\" y=\"7.2\"/>\r\n  </clipPath>\r\n </defs>\r\n</svg>\r\n",
      "image/png": "[encoded data removed]"
     },
     "metadata": {
      "needs_background": "light"
     }
    }
   ],
   "source": [
    "# Cleaning Missing Date\n",
    "\n",
    "os.chdir(my_path_CCBIS)\n",
    "print(\"==== Cleaning Outliner ====\")\n",
    "\n",
    "for file in glob.glob(\"CDR.csv\"):\n",
    "    # Get table info\n",
    "    tableName = str(file)[:-4]\n",
    "    pkNameQuery = \"SELECT Col.Column_Name as PkName from INFORMATION_SCHEMA.TABLE_CONSTRAINTS Tab, INFORMATION_SCHEMA.CONSTRAINT_COLUMN_USAGE Col WHERE Col.Constraint_Name = Tab.Constraint_Name AND Col.Table_Name = Tab.Table_Name AND Constraint_Type = 'PRIMARY KEY' AND Col.Table_Name = '\" + tableName +\"'\"\n",
    "    pkList = list(pandas.read_sql(pkNameQuery, sql_conn)[\"PkName\"])\n",
    "\n",
    "    # Get data\n",
    "    df = pandas.read_csv(file, index_col = pkList)\n",
    "    size_org = df.shape[0]\n",
    "    cols = df.columns\n",
    "    print('\\nFrom: ' + file + str(df.shape))\n",
    "\n",
    "    df.set_index = (['CustomerKey'])\n",
    "    df.boxplot('NPS')"
   ]
  },
  {
   "cell_type": "code",
   "execution_count": null,
   "metadata": {},
   "outputs": [],
   "source": []
  }
 ]
}