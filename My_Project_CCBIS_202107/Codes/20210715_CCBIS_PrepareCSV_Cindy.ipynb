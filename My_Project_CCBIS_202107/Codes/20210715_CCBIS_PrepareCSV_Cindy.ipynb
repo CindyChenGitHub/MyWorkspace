{
 "metadata": {
  "language_info": {
   "codemirror_mode": {
    "name": "ipython",
    "version": 3
   },
   "file_extension": ".py",
   "mimetype": "text/x-python",
   "name": "python",
   "nbconvert_exporter": "python",
   "pygments_lexer": "ipython3",
   "version": "3.8.8"
  },
  "orig_nbformat": 4,
  "kernelspec": {
   "name": "python3",
   "display_name": "Python 3.8.8 64-bit"
  },
  "interpreter": {
   "hash": "b3ba2566441a7c06988d0923437866b63cedc61552a5af99d1f4fb67d367b25f"
  }
 },
 "nbformat": 4,
 "nbformat_minor": 2,
 "cells": [
  {
   "source": [
    "#ETL phase 1, expoet CCBIS Data to CSV"
   ],
   "cell_type": "markdown",
   "metadata": {}
  },
  {
   "cell_type": "code",
   "execution_count": null,
   "metadata": {},
   "outputs": [],
   "source": [
    "import pandas\n",
    "import pyodbc\n",
    "import os"
   ]
  },
  {
   "cell_type": "code",
   "execution_count": null,
   "metadata": {},
   "outputs": [],
   "source": [
    "#!pip install pandas\n",
    "#!pip install pyodbc\n",
    "#!python import_neccessary_modules.py\n",
    "#%run -i 'import_neccessary_modules.py'\n",
    "\n",
    "modules = ['os', 'pandas', 'pyodbc']\n",
    "for module in modules:\n",
    "    #import_neccessary_modules(module)\n",
    "    import(module)\n",
    "    \n",
    "try:\n",
    "  import pandas as pd\n",
    "  print('importing pandas as pd')\n",
    "except:\n",
    "  !pip install pandas\n",
    "  print('pip install pandas')\n",
    "  import pandas as pd\n",
    "  print('importing pandas as pd')"
   ]
  },
  {
   "cell_type": "code",
   "execution_count": null,
   "metadata": {},
   "outputs": [],
   "source": [
    "#Set up SQL Server connector\n",
    "#sql_conn = pyodbc.connect('DRIVER={SQL Server}; SERVER=localhost; DATABASE=CCBIS; UID=sa; PWD=SQLServer2019')\n",
    "sql_dw_conn = pyodbc.connect('DRIVER={SQL Server}; SERVER=localhost; DATABASE=CCBISDW; UID=sa; PWD=SQLServer2019')"
   ]
  },
  {
   "cell_type": "code",
   "execution_count": null,
   "metadata": {},
   "outputs": [],
   "source": [
    "#Let's do a test to see if we can extract data\n",
    "query = \"use CCBISDW SELECT * FROM [dbo].[Dimagent]\"\n",
    "df = pd.read_sql(query,sql_dw_conn)\n",
    "df.head(3)"
   ]
  },
  {
   "cell_type": "code",
   "execution_count": null,
   "metadata": {},
   "outputs": [],
   "source": [
    "#Let's do a test to see if we can extract data\n",
    "query = \"use CCBIS SELECT * FROM [dbo].[Dimagent]\"\n",
    "df = pd.read_sql(query,sql_conn)\n",
    "df.head(3)"
   ]
  },
  {
   "cell_type": "code",
   "execution_count": null,
   "metadata": {},
   "outputs": [],
   "source": [
    "# get table name list\n",
    "tables = \"SELECT TABLE_NAME FROM INFORMATION_SCHEMA.TABLES WHERE TABLE_NAME != 'sysdiagrams'\"\n",
    "tbls = pd.read_sql(tables, sql_dw_conn)\n",
    "tbls.head(20)"
   ]
  },
  {
   "cell_type": "code",
   "execution_count": null,
   "metadata": {},
   "outputs": [],
   "source": [
    "WD = r\"C:\\MyDataFiles\\Data_CCBIS_202107\"\n",
    "#print(WD)\n",
    "for index, row in tbls.iterrows():\n",
    "    name = row['TABLE_NAME']\n",
    "    query = \"SELECT * FROM [dbo].[\" + row['TABLE_NAME'] + \"]\"\n",
    "    print(query)\n",
    "    df = pd.read_sql(query, sql_conn)\n",
    "    df.to_csv(WD + \"/\" + name + '.csv', index=False)\n"
   ]
  }
 ]
}