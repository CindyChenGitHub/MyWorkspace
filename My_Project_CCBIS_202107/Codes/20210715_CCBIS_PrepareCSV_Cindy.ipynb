{
 "metadata": {
  "language_info": {
   "codemirror_mode": {
    "name": "ipython",
    "version": 3
   },
   "file_extension": ".py",
   "mimetype": "text/x-python",
   "name": "python",
   "nbconvert_exporter": "python",
   "pygments_lexer": "ipython3",
   "version": "3.8.8"
  },
  "orig_nbformat": 4,
  "kernelspec": {
   "name": "python3",
   "display_name": "Python 3.8.8 64-bit ('base': conda)"
  },
  "interpreter": {
   "hash": "b3ba2566441a7c06988d0923437866b63cedc61552a5af99d1f4fb67d367b25f"
  }
 },
 "nbformat": 4,
 "nbformat_minor": 2,
 "cells": [
  {
   "source": [
    "#ETL phase 1, expoet CCBIS Data to CSV"
   ],
   "cell_type": "markdown",
   "metadata": {}
  },
  {
   "cell_type": "code",
   "execution_count": 15,
   "metadata": {},
   "outputs": [
    {
     "output_type": "error",
     "ename": "NameError",
     "evalue": "name 'import_neccessary_modules' is not defined",
     "traceback": [
      "\u001b[1;31m---------------------------------------------------------------------------\u001b[0m",
      "\u001b[1;31mNameError\u001b[0m                                 Traceback (most recent call last)",
      "\u001b[1;32m<ipython-input-15-97c0638f7e00>\u001b[0m in \u001b[0;36m<module>\u001b[1;34m\u001b[0m\n\u001b[0;32m      4\u001b[0m \u001b[0mmodules\u001b[0m \u001b[1;33m=\u001b[0m \u001b[1;33m[\u001b[0m\u001b[1;34m'os'\u001b[0m\u001b[1;33m,\u001b[0m \u001b[1;34m'pandas'\u001b[0m\u001b[1;33m,\u001b[0m \u001b[1;34m'pyodbc'\u001b[0m\u001b[1;33m]\u001b[0m\u001b[1;33m\u001b[0m\u001b[1;33m\u001b[0m\u001b[0m\n\u001b[0;32m      5\u001b[0m \u001b[1;32mfor\u001b[0m \u001b[0mmodule\u001b[0m \u001b[1;32min\u001b[0m \u001b[0mmodules\u001b[0m\u001b[1;33m:\u001b[0m\u001b[1;33m\u001b[0m\u001b[1;33m\u001b[0m\u001b[0m\n\u001b[1;32m----> 6\u001b[1;33m     \u001b[0mimport_neccessary_modules\u001b[0m\u001b[1;33m(\u001b[0m\u001b[0mmodule\u001b[0m\u001b[1;33m)\u001b[0m\u001b[1;33m\u001b[0m\u001b[1;33m\u001b[0m\u001b[0m\n\u001b[0m\u001b[0;32m      7\u001b[0m \u001b[1;33m\u001b[0m\u001b[0m\n\u001b[0;32m      8\u001b[0m \u001b[1;32mtry\u001b[0m\u001b[1;33m:\u001b[0m\u001b[1;33m\u001b[0m\u001b[1;33m\u001b[0m\u001b[0m\n",
      "\u001b[1;31mNameError\u001b[0m: name 'import_neccessary_modules' is not defined"
     ]
    }
   ],
   "source": [
    "#!pip install pandas\n",
    "#!pip install pyodbc\n",
    "\n",
    "modules = ['os', 'pandas', 'pyodbc']\n",
    "for module in modules:\n",
    "    import_neccessary_modules(module)\n",
    "    \n",
    "try:\n",
    "  import pandas as pd\n",
    "  print('importing pandas as pd')\n",
    "except:\n",
    "  !pip install pandas\n",
    "  print('pip install pandas')\n",
    "  import pandas as pd\n",
    "  print('importing pandas as pd')"
   ]
  },
  {
   "cell_type": "code",
   "execution_count": 2,
   "metadata": {},
   "outputs": [],
   "source": [
    "#Set up SQL Server connector\n",
    "sql_conn = pyodbc.connect('DRIVER={SQL Server}; SERVER=localhost; DATABASE=CCBIS; UID=sa; PWD=SQLServer2019')"
   ]
  },
  {
   "cell_type": "code",
   "execution_count": 3,
   "metadata": {},
   "outputs": [
    {
     "output_type": "execute_result",
     "data": {
      "text/plain": [
       "   AgentID   FirstName  LastName    Group Location\n",
       "0        1      Jarrod      Todd  Level 1   London\n",
       "1        2  Chancellor  Mckenzie  Level 1   Berlin\n",
       "2        3       Lamar      Pace  Level 5   London"
      ],
      "text/html": "<div>\n<style scoped>\n    .dataframe tbody tr th:only-of-type {\n        vertical-align: middle;\n    }\n\n    .dataframe tbody tr th {\n        vertical-align: top;\n    }\n\n    .dataframe thead th {\n        text-align: right;\n    }\n</style>\n<table border=\"1\" class=\"dataframe\">\n  <thead>\n    <tr style=\"text-align: right;\">\n      <th></th>\n      <th>AgentID</th>\n      <th>FirstName</th>\n      <th>LastName</th>\n      <th>Group</th>\n      <th>Location</th>\n    </tr>\n  </thead>\n  <tbody>\n    <tr>\n      <th>0</th>\n      <td>1</td>\n      <td>Jarrod</td>\n      <td>Todd</td>\n      <td>Level 1</td>\n      <td>London</td>\n    </tr>\n    <tr>\n      <th>1</th>\n      <td>2</td>\n      <td>Chancellor</td>\n      <td>Mckenzie</td>\n      <td>Level 1</td>\n      <td>Berlin</td>\n    </tr>\n    <tr>\n      <th>2</th>\n      <td>3</td>\n      <td>Lamar</td>\n      <td>Pace</td>\n      <td>Level 5</td>\n      <td>London</td>\n    </tr>\n  </tbody>\n</table>\n</div>"
     },
     "metadata": {},
     "execution_count": 3
    }
   ],
   "source": [
    "#Let's do a test to see if we can extract data\n",
    "query = \"SELECT * FROM [dbo].[Dimagent]\"\n",
    "df = pd.read_sql(query,sql_conn)\n",
    "df.head(3)"
   ]
  },
  {
   "cell_type": "code",
   "execution_count": 4,
   "metadata": {},
   "outputs": [
    {
     "output_type": "execute_result",
     "data": {
      "text/plain": [
       "        TABLE_NAME\n",
       "0              CDR\n",
       "1         DimAgent\n",
       "2      DimCustomer\n",
       "3     DimGeography\n",
       "4    DimHandleType\n",
       "5       DimProduct\n",
       "6  DimProductGroup\n",
       "7   DimServiceType\n",
       "8  DimSeverifyType"
      ],
      "text/html": "<div>\n<style scoped>\n    .dataframe tbody tr th:only-of-type {\n        vertical-align: middle;\n    }\n\n    .dataframe tbody tr th {\n        vertical-align: top;\n    }\n\n    .dataframe thead th {\n        text-align: right;\n    }\n</style>\n<table border=\"1\" class=\"dataframe\">\n  <thead>\n    <tr style=\"text-align: right;\">\n      <th></th>\n      <th>TABLE_NAME</th>\n    </tr>\n  </thead>\n  <tbody>\n    <tr>\n      <th>0</th>\n      <td>CDR</td>\n    </tr>\n    <tr>\n      <th>1</th>\n      <td>DimAgent</td>\n    </tr>\n    <tr>\n      <th>2</th>\n      <td>DimCustomer</td>\n    </tr>\n    <tr>\n      <th>3</th>\n      <td>DimGeography</td>\n    </tr>\n    <tr>\n      <th>4</th>\n      <td>DimHandleType</td>\n    </tr>\n    <tr>\n      <th>5</th>\n      <td>DimProduct</td>\n    </tr>\n    <tr>\n      <th>6</th>\n      <td>DimProductGroup</td>\n    </tr>\n    <tr>\n      <th>7</th>\n      <td>DimServiceType</td>\n    </tr>\n    <tr>\n      <th>8</th>\n      <td>DimSeverifyType</td>\n    </tr>\n  </tbody>\n</table>\n</div>"
     },
     "metadata": {},
     "execution_count": 4
    }
   ],
   "source": [
    "# get table name list\n",
    "tables = \"SELECT TABLE_NAME FROM INFORMATION_SCHEMA.TABLES WHERE TABLE_NAME != 'sysdiagrams'\"\n",
    "tbls = pd.read_sql(tables, sql_conn)\n",
    "tbls.head(20)"
   ]
  },
  {
   "cell_type": "code",
   "execution_count": 5,
   "metadata": {},
   "outputs": [
    {
     "output_type": "stream",
     "name": "stdout",
     "text": [
      "SELECT * FROM [dbo].[CDR]\n",
      "SELECT * FROM [dbo].[DimAgent]\n",
      "SELECT * FROM [dbo].[DimCustomer]\n",
      "SELECT * FROM [dbo].[DimGeography]\n",
      "SELECT * FROM [dbo].[DimHandleType]\n",
      "SELECT * FROM [dbo].[DimProduct]\n",
      "SELECT * FROM [dbo].[DimProductGroup]\n",
      "SELECT * FROM [dbo].[DimServiceType]\n",
      "SELECT * FROM [dbo].[DimSeverifyType]\n"
     ]
    }
   ],
   "source": [
    "WD = r\"C:\\MyDataFiles\\Data_CCBIS_202107\"\n",
    "#print(WD)\n",
    "for index, row in tbls.iterrows():\n",
    "    name = row['TABLE_NAME']\n",
    "    query = \"SELECT * FROM [dbo].[\" + row['TABLE_NAME'] + \"]\"\n",
    "    print(query)\n",
    "    df = pd.read_sql(query, sql_conn)\n",
    "    df.to_csv(WD + \"/\" + name + '.csv', index=False)\n"
   ]
  }
 ]
}